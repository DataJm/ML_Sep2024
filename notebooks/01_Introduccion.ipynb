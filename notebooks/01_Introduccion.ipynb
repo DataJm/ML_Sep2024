{
 "cells": [
  {
   "cell_type": "markdown",
   "metadata": {},
   "source": [
    "### Clase 1: Introducción a Machine Learning y Herramientas\n",
    "- ¿Qué es el aprendizaje máquina?\n",
    "  - Modelos supervisados y no supervisados\n",
    "  - Hiperparámetros y su importancia\n",
    "  - Contextualización en Risk & Compliance\n",
    "- Introducción a las herramientas: Scikit-Learn & TensorFlow\n",
    "  - Instalación y configuración\n",
    "  - Ejemplo básico de un modelo\n",
    "\n",
    "  ---\n",
    "\n",
    "  En esta clase, vamos a abordar los conceptos fundamentales de Machine Learning, explicaremos los tipos de modelos supervisados y no supervisados, y discutiremos cómo se aplican en el ámbito de **Risk & Compliance**. También exploraremos el concepto de hiperparámetros y su importancia, además de introducir las herramientas que utilizaremos a lo largo del curso. Finalmente, veremos un ejemplo básico de regresión lineal aplicado a un problema común en Risk & Compliance: la predicción del riesgo de crédito de un cliente.\n",
    "\n",
    "  #### Modelos Supervisados y No Supervisados\n",
    "\n",
    "### ¿Qué es el aprendizaje máquina?\n",
    "\n",
    "![0101](../img/0000.png)\n",
    "\n",
    "El **Machine Learning (ML)** o **aprendizaje automático** es una rama de la inteligencia artificial que permite a los sistemas aprender y mejorar automáticamente a partir de la experiencia, sin ser programados explícitamente para ello. Los algoritmos de Machine Learning utilizan datos para detectar patrones, realizar predicciones o tomar decisiones, sin intervención humana directa. Estos algoritmos pueden clasificarse en dos grandes categorías: **supervisados** y **no supervisados**.\n",
    "\n",
    "1. **Modelos Supervisados:**\n",
    "\n",
    "![0101](../img/0101.png)\n",
    "\n",
    "\n",
    "   Los modelos supervisados son aquellos que aprenden de un conjunto de datos etiquetados, es decir, de ejemplos donde ya se conoce la relación entre las variables de entrada (también llamadas características o *features*) y la variable de salida (el resultado o *target*). El objetivo es que, una vez entrenado el modelo, este pueda predecir el valor del resultado cuando se le presentan nuevos datos de entrada.\n",
    "\n",
    "   Ejemplos de modelos supervisados incluyen:\n",
    "   - **Regresión:** Se utiliza cuando el objetivo es predecir un valor numérico. Un ejemplo clásico en el contexto de Risk & Compliance es la predicción del monto de una pérdida financiera basada en las características de una transacción.\n",
    "   - **Clasificación:** Se utiliza cuando el objetivo es asignar una etiqueta o categoría a los datos de entrada. Por ejemplo, un modelo puede clasificar transacciones como fraudulentas o no fraudulentas.\n",
    "   \n",
    "2. **Modelos No Supervisados:**\n",
    "\n",
    "![0102](../img/0102.png)\n",
    "\n",
    "   Los modelos no supervisados trabajan con datos no etiquetados, es decir, donde no hay un resultado conocido para cada ejemplo. El objetivo es encontrar patrones ocultos o estructuras en los datos. \n",
    "\n",
    "   Ejemplos de modelos no supervisados incluyen:\n",
    "   - **Clustering:** Agrupar los datos en diferentes categorías o grupos sin conocer previamente estas categorías. Esto podría ser útil en Risk & Compliance para identificar segmentos de clientes que presentan comportamientos financieros similares.\n",
    "\n",
    "#### Hiperparámetros y su Importancia\n",
    "\n",
    "![0103](../img/0103.png)\n",
    "\n",
    "Los **hiperparámetros** son configuraciones del modelo que no se aprenden automáticamente a partir de los datos y deben ser establecidos antes del entrenamiento del modelo. Estos parámetros afectan el rendimiento y la precisión del modelo, y su ajuste adecuado es crucial para obtener buenos resultados.\n",
    "\n",
    "Ejemplos de hiperparámetros incluyen:\n",
    "- **Tasa de aprendizaje (Learning rate):** Define qué tan rápido el modelo actualiza sus pesos a medida que aprende de los datos.\n",
    "- **Número de árboles en un bosque aleatorio (Random Forests):** Controla cuántos árboles se utilizan en el modelo, lo que afecta la precisión y el tiempo de entrenamiento.\n",
    "\n",
    "El ajuste de hiperparámetros implica probar diferentes combinaciones de estos parámetros hasta encontrar la configuración que ofrezca el mejor rendimiento.\n",
    "\n",
    "#### Contextualización en Risk & Compliance\n",
    "\n",
    "El área de **Risk & Compliance** en instituciones financieras se enfrenta a diversos desafíos que requieren un análisis cuidadoso y, a menudo, la toma de decisiones rápidas y precisas. Algunas de las aplicaciones más comunes de Machine Learning en este ámbito incluyen:\n",
    "\n",
    "- **Detección de fraude:** Machine Learning puede ayudar a identificar transacciones o actividades sospechosas en tiempo real, analizando patrones en los datos históricos.\n",
    "- **Evaluación del riesgo crediticio:** Modelos predictivos pueden calcular la probabilidad de que un cliente incumpla un préstamo, permitiendo una gestión más eficiente del riesgo.\n",
    "- **Cumplimiento normativo (Compliance):** Las instituciones financieras deben cumplir con regulaciones locales e internacionales. Los modelos de ML pueden ayudar a automatizar la monitorización del cumplimiento, detectando anomalías que podrían indicar infracciones.\n",
    "\n",
    "### Introducción a las Herramientas: Scikit-Learn & TensorFlow\n",
    "\n",
    "Para llevar a cabo nuestros análisis y construir modelos de Machine Learning, usaremos **Scikit-Learn**\n",
    "\n",
    "- **Scikit-Learn** es una biblioteca fácil de usar que incluye varios algoritmos de Machine Learning, desde regresiones lineales hasta modelos complejos como máquinas de soporte vectorial (SVM) y árboles de decisión. Su sintaxis simple y versátil la hace ideal para proyectos de Machine Learning de inicio rápido.\n",
    "\n",
    "### Ejemplo Básico de un Modelo: Regresión Lineal en Risk & Compliance\n",
    "\n",
    "Vamos a desarrollar un ejemplo práctico que nos ayude a entender cómo aplicar un modelo supervisado sencillo, como la **regresión lineal**, a un problema en el área de Risk & Compliance. En este caso, vamos a predecir el **riesgo de crédito** de un cliente en función de su ingreso anual y la cantidad de crédito que ha solicitado.\n",
    "\n",
    "El objetivo de este ejemplo es mostrar cómo construir un modelo de regresión lineal utilizando **Scikit-Learn** y aplicarlo a un problema del mundo real.\n",
    "\n",
    "#### 1. Preparación del entorno y carga de datos\n",
    "\n",
    "Para este ejemplo, vamos a simular un conjunto de datos. Cada registro representará a un cliente con dos características principales: su ingreso anual y la cantidad de crédito solicitada. Queremos predecir una variable llamada \"Riesgo de crédito\", que indicará el riesgo asociado a otorgar un préstamo a este cliente.\n"
   ]
  },
  {
   "cell_type": "code",
   "execution_count": 1,
   "metadata": {},
   "outputs": [],
   "source": [
    "# Importamos las librerías necesarias\n",
    "import numpy as np\n",
    "import pandas as pd\n",
    "from sklearn.model_selection import train_test_split\n",
    "from sklearn.linear_model import LinearRegression\n",
    "from sklearn.metrics import mean_squared_error\n",
    "import matplotlib.pyplot as plt"
   ]
  },
  {
   "cell_type": "code",
   "execution_count": 2,
   "metadata": {},
   "outputs": [],
   "source": [
    "# Simulamos un conjunto de datos\n",
    "np.random.seed(42)\n",
    "n = 100  # Número de clientes\n",
    "\n",
    "ingreso_anual = np.random.normal(50000, 15000, n)  # Ingreso anual en USD\n",
    "credito_solicitado = np.random.normal(20000, 5000, n)  # Crédito solicitado en USD\n",
    "riesgo_credito = 0.3 * ingreso_anual - 0.2 * credito_solicitado + np.random.normal(0, 1000, n)  # Fórmula simulada para riesgo de crédito\n"
   ]
  },
  {
   "cell_type": "code",
   "execution_count": 3,
   "metadata": {},
   "outputs": [],
   "source": [
    "# Creamos un DataFrame\n",
    "data = pd.DataFrame({\n",
    "    'Ingreso Anual': ingreso_anual,\n",
    "    'Crédito Solicitado': credito_solicitado,\n",
    "    'Riesgo Crédito': riesgo_credito\n",
    "})\n"
   ]
  },
  {
   "cell_type": "code",
   "execution_count": 4,
   "metadata": {},
   "outputs": [
    {
     "data": {
      "text/html": [
       "<div>\n",
       "<style scoped>\n",
       "    .dataframe tbody tr th:only-of-type {\n",
       "        vertical-align: middle;\n",
       "    }\n",
       "\n",
       "    .dataframe tbody tr th {\n",
       "        vertical-align: top;\n",
       "    }\n",
       "\n",
       "    .dataframe thead th {\n",
       "        text-align: right;\n",
       "    }\n",
       "</style>\n",
       "<table border=\"1\" class=\"dataframe\">\n",
       "  <thead>\n",
       "    <tr style=\"text-align: right;\">\n",
       "      <th></th>\n",
       "      <th>Ingreso Anual</th>\n",
       "      <th>Crédito Solicitado</th>\n",
       "      <th>Riesgo Crédito</th>\n",
       "    </tr>\n",
       "  </thead>\n",
       "  <tbody>\n",
       "    <tr>\n",
       "      <th>0</th>\n",
       "      <td>57450.712295</td>\n",
       "      <td>12923.146290</td>\n",
       "      <td>15008.371791</td>\n",
       "    </tr>\n",
       "    <tr>\n",
       "      <th>1</th>\n",
       "      <td>47926.035482</td>\n",
       "      <td>17896.773386</td>\n",
       "      <td>11359.240494</td>\n",
       "    </tr>\n",
       "    <tr>\n",
       "      <th>2</th>\n",
       "      <td>59715.328072</td>\n",
       "      <td>18286.427417</td>\n",
       "      <td>15340.364181</td>\n",
       "    </tr>\n",
       "    <tr>\n",
       "      <th>3</th>\n",
       "      <td>72845.447846</td>\n",
       "      <td>15988.613654</td>\n",
       "      <td>19709.713675</td>\n",
       "    </tr>\n",
       "    <tr>\n",
       "      <th>4</th>\n",
       "      <td>46487.699379</td>\n",
       "      <td>19193.571442</td>\n",
       "      <td>8729.926157</td>\n",
       "    </tr>\n",
       "  </tbody>\n",
       "</table>\n",
       "</div>"
      ],
      "text/plain": [
       "   Ingreso Anual  Crédito Solicitado  Riesgo Crédito\n",
       "0   57450.712295        12923.146290    15008.371791\n",
       "1   47926.035482        17896.773386    11359.240494\n",
       "2   59715.328072        18286.427417    15340.364181\n",
       "3   72845.447846        15988.613654    19709.713675\n",
       "4   46487.699379        19193.571442     8729.926157"
      ]
     },
     "execution_count": 4,
     "metadata": {},
     "output_type": "execute_result"
    }
   ],
   "source": [
    "data.head()"
   ]
  },
  {
   "cell_type": "markdown",
   "metadata": {},
   "source": [
    "#### 2. División de los datos en conjuntos de entrenamiento y prueba\n",
    "\n",
    "Dividimos nuestros datos en dos conjuntos: uno para entrenar el modelo y otro para evaluar su rendimiento. Esto es importante porque queremos evitar el sobreajuste, es decir, que el modelo aprenda demasiado bien los datos de entrenamiento y no sea capaz de generalizar a nuevos datos.\n"
   ]
  },
  {
   "cell_type": "code",
   "execution_count": 5,
   "metadata": {},
   "outputs": [],
   "source": [
    "# División de los datos en características (X) y etiqueta (y)\n",
    "X = data[['Ingreso Anual', 'Crédito Solicitado']]  # Características\n",
    "y = data['Riesgo Crédito']  # Etiqueta\n",
    "\n",
    "# División en conjunto de entrenamiento y prueba\n",
    "X_train, X_test, y_train, y_test = train_test_split(X, y, test_size=0.3, random_state=42)\n"
   ]
  },
  {
   "cell_type": "code",
   "execution_count": 10,
   "metadata": {},
   "outputs": [
    {
     "data": {
      "text/html": [
       "<table class=\"simpletable\">\n",
       "<caption>OLS Regression Results</caption>\n",
       "<tr>\n",
       "  <th>Dep. Variable:</th>     <td>Riesgo Crédito</td>  <th>  R-squared (uncentered):</th>      <td>   0.991</td>\n",
       "</tr>\n",
       "<tr>\n",
       "  <th>Model:</th>                   <td>OLS</td>       <th>  Adj. R-squared (uncentered):</th> <td>   0.990</td>\n",
       "</tr>\n",
       "<tr>\n",
       "  <th>Method:</th>             <td>Least Squares</td>  <th>  F-statistic:       </th>          <td>   3614.</td>\n",
       "</tr>\n",
       "<tr>\n",
       "  <th>Date:</th>             <td>Thu, 12 Sep 2024</td> <th>  Prob (F-statistic):</th>          <td>9.10e-70</td>\n",
       "</tr>\n",
       "<tr>\n",
       "  <th>Time:</th>                 <td>15:38:33</td>     <th>  Log-Likelihood:    </th>          <td> -589.62</td>\n",
       "</tr>\n",
       "<tr>\n",
       "  <th>No. Observations:</th>      <td>    70</td>      <th>  AIC:               </th>          <td>   1183.</td>\n",
       "</tr>\n",
       "<tr>\n",
       "  <th>Df Residuals:</th>          <td>    68</td>      <th>  BIC:               </th>          <td>   1188.</td>\n",
       "</tr>\n",
       "<tr>\n",
       "  <th>Df Model:</th>              <td>     2</td>      <th>                     </th>              <td> </td>   \n",
       "</tr>\n",
       "<tr>\n",
       "  <th>Covariance Type:</th>      <td>nonrobust</td>    <th>                     </th>              <td> </td>   \n",
       "</tr>\n",
       "</table>\n",
       "<table class=\"simpletable\">\n",
       "<tr>\n",
       "           <td></td>             <th>coef</th>     <th>std err</th>      <th>t</th>      <th>P>|t|</th>  <th>[0.025</th>    <th>0.975]</th>  \n",
       "</tr>\n",
       "<tr>\n",
       "  <th>Ingreso Anual</th>      <td>    0.3052</td> <td>    0.007</td> <td>   44.472</td> <td> 0.000</td> <td>    0.292</td> <td>    0.319</td>\n",
       "</tr>\n",
       "<tr>\n",
       "  <th>Crédito Solicitado</th> <td>   -0.2108</td> <td>    0.016</td> <td>  -12.919</td> <td> 0.000</td> <td>   -0.243</td> <td>   -0.178</td>\n",
       "</tr>\n",
       "</table>\n",
       "<table class=\"simpletable\">\n",
       "<tr>\n",
       "  <th>Omnibus:</th>       <td> 0.465</td> <th>  Durbin-Watson:     </th> <td>   2.298</td>\n",
       "</tr>\n",
       "<tr>\n",
       "  <th>Prob(Omnibus):</th> <td> 0.793</td> <th>  Jarque-Bera (JB):  </th> <td>   0.447</td>\n",
       "</tr>\n",
       "<tr>\n",
       "  <th>Skew:</th>          <td>-0.183</td> <th>  Prob(JB):          </th> <td>   0.800</td>\n",
       "</tr>\n",
       "<tr>\n",
       "  <th>Kurtosis:</th>      <td> 2.861</td> <th>  Cond. No.          </th> <td>    7.08</td>\n",
       "</tr>\n",
       "</table><br/><br/>Notes:<br/>[1] R² is computed without centering (uncentered) since the model does not contain a constant.<br/>[2] Standard Errors assume that the covariance matrix of the errors is correctly specified."
      ],
      "text/latex": [
       "\\begin{center}\n",
       "\\begin{tabular}{lclc}\n",
       "\\toprule\n",
       "\\textbf{Dep. Variable:}     &  Riesgo Crédito  & \\textbf{  R-squared (uncentered):}      &     0.991   \\\\\n",
       "\\textbf{Model:}             &       OLS        & \\textbf{  Adj. R-squared (uncentered):} &     0.990   \\\\\n",
       "\\textbf{Method:}            &  Least Squares   & \\textbf{  F-statistic:       }          &     3614.   \\\\\n",
       "\\textbf{Date:}              & Thu, 12 Sep 2024 & \\textbf{  Prob (F-statistic):}          &  9.10e-70   \\\\\n",
       "\\textbf{Time:}              &     15:38:33     & \\textbf{  Log-Likelihood:    }          &   -589.62   \\\\\n",
       "\\textbf{No. Observations:}  &          70      & \\textbf{  AIC:               }          &     1183.   \\\\\n",
       "\\textbf{Df Residuals:}      &          68      & \\textbf{  BIC:               }          &     1188.   \\\\\n",
       "\\textbf{Df Model:}          &           2      & \\textbf{                     }          &             \\\\\n",
       "\\textbf{Covariance Type:}   &    nonrobust     & \\textbf{                     }          &             \\\\\n",
       "\\bottomrule\n",
       "\\end{tabular}\n",
       "\\begin{tabular}{lcccccc}\n",
       "                            & \\textbf{coef} & \\textbf{std err} & \\textbf{t} & \\textbf{P$> |$t$|$} & \\textbf{[0.025} & \\textbf{0.975]}  \\\\\n",
       "\\midrule\n",
       "\\textbf{Ingreso Anual}      &       0.3052  &        0.007     &    44.472  &         0.000        &        0.292    &        0.319     \\\\\n",
       "\\textbf{Crédito Solicitado} &      -0.2108  &        0.016     &   -12.919  &         0.000        &       -0.243    &       -0.178     \\\\\n",
       "\\bottomrule\n",
       "\\end{tabular}\n",
       "\\begin{tabular}{lclc}\n",
       "\\textbf{Omnibus:}       &  0.465 & \\textbf{  Durbin-Watson:     } &    2.298  \\\\\n",
       "\\textbf{Prob(Omnibus):} &  0.793 & \\textbf{  Jarque-Bera (JB):  } &    0.447  \\\\\n",
       "\\textbf{Skew:}          & -0.183 & \\textbf{  Prob(JB):          } &    0.800  \\\\\n",
       "\\textbf{Kurtosis:}      &  2.861 & \\textbf{  Cond. No.          } &     7.08  \\\\\n",
       "\\bottomrule\n",
       "\\end{tabular}\n",
       "%\\caption{OLS Regression Results}\n",
       "\\end{center}\n",
       "\n",
       "Notes: \\newline\n",
       " [1] R² is computed without centering (uncentered) since the model does not contain a constant. \\newline\n",
       " [2] Standard Errors assume that the covariance matrix of the errors is correctly specified."
      ],
      "text/plain": [
       "<class 'statsmodels.iolib.summary.Summary'>\n",
       "\"\"\"\n",
       "                                 OLS Regression Results                                \n",
       "=======================================================================================\n",
       "Dep. Variable:         Riesgo Crédito   R-squared (uncentered):                   0.991\n",
       "Model:                            OLS   Adj. R-squared (uncentered):              0.990\n",
       "Method:                 Least Squares   F-statistic:                              3614.\n",
       "Date:                Thu, 12 Sep 2024   Prob (F-statistic):                    9.10e-70\n",
       "Time:                        15:38:33   Log-Likelihood:                         -589.62\n",
       "No. Observations:                  70   AIC:                                      1183.\n",
       "Df Residuals:                      68   BIC:                                      1188.\n",
       "Df Model:                           2                                                  \n",
       "Covariance Type:            nonrobust                                                  \n",
       "======================================================================================\n",
       "                         coef    std err          t      P>|t|      [0.025      0.975]\n",
       "--------------------------------------------------------------------------------------\n",
       "Ingreso Anual          0.3052      0.007     44.472      0.000       0.292       0.319\n",
       "Crédito Solicitado    -0.2108      0.016    -12.919      0.000      -0.243      -0.178\n",
       "==============================================================================\n",
       "Omnibus:                        0.465   Durbin-Watson:                   2.298\n",
       "Prob(Omnibus):                  0.793   Jarque-Bera (JB):                0.447\n",
       "Skew:                          -0.183   Prob(JB):                        0.800\n",
       "Kurtosis:                       2.861   Cond. No.                         7.08\n",
       "==============================================================================\n",
       "\n",
       "Notes:\n",
       "[1] R² is computed without centering (uncentered) since the model does not contain a constant.\n",
       "[2] Standard Errors assume that the covariance matrix of the errors is correctly specified.\n",
       "\"\"\""
      ]
     },
     "execution_count": 10,
     "metadata": {},
     "output_type": "execute_result"
    }
   ],
   "source": [
    "import statsmodels.api as sm\n",
    "model = sm.OLS(y_train, X_train)\n",
    "results = model.fit()\n",
    "results.summary()"
   ]
  },
  {
   "cell_type": "markdown",
   "metadata": {},
   "source": [
    "#### 3. Entrenamiento del modelo de regresión lineal\n",
    "\n",
    "Ahora entrenamos un modelo de **regresión lineal** utilizando los datos de entrenamiento. El modelo intentará aprender la relación entre el ingreso anual, el crédito solicitado y el riesgo de crédito.\n"
   ]
  },
  {
   "cell_type": "code",
   "execution_count": 6,
   "metadata": {},
   "outputs": [
    {
     "name": "stdout",
     "output_type": "stream",
     "text": [
      "Coeficientes: [ 0.31184372 -0.18708631]\n",
      "Intercepto: -827.9266190117141\n"
     ]
    }
   ],
   "source": [
    "# Creamos y entrenamos el modelo de regresión lineal\n",
    "modelo = LinearRegression()\n",
    "modelo.fit(X_train, y_train)\n",
    "\n",
    "# Coeficientes del modelo\n",
    "print(\"Coeficientes:\", modelo.coef_)\n",
    "print(\"Intercepto:\", modelo.intercept_)\n"
   ]
  },
  {
   "cell_type": "markdown",
   "metadata": {},
   "source": [
    "#### 4. Evaluación del modelo\n",
    "\n",
    "Después de entrenar el modelo, lo evaluamos utilizando el conjunto de prueba. Una métrica común para modelos de regresión es el **error cuadrático medio (MSE)**, que nos indica qué tan cerca están las predicciones del valor real.\n"
   ]
  },
  {
   "cell_type": "code",
   "execution_count": 7,
   "metadata": {},
   "outputs": [],
   "source": [
    "# Realizamos predicciones en el conjunto de prueba\n",
    "y_pred = modelo.predict(X_test)\n"
   ]
  },
  {
   "cell_type": "code",
   "execution_count": 8,
   "metadata": {},
   "outputs": [
    {
     "name": "stdout",
     "output_type": "stream",
     "text": [
      "Error cuadrático medio (MSE): 992085.17\n"
     ]
    }
   ],
   "source": [
    "# Calculamos el MSE\n",
    "mse = mean_squared_error(y_test, y_pred)\n",
    "print(f\"Error cuadrático medio (MSE): {mse:.2f}\")\n"
   ]
  },
  {
   "cell_type": "code",
   "execution_count": 9,
   "metadata": {},
   "outputs": [
    {
     "data": {
      "image/png": "[encoded data removed]",
      "text/plain": [
       "<Figure size 640x480 with 1 Axes>"
      ]
     },
     "metadata": {},
     "output_type": "display_data"
    }
   ],
   "source": [
    "# Visualización de resultados\n",
    "plt.scatter(y_test, y_pred)\n",
    "plt.xlabel('Valores reales (Riesgo de Crédito)')\n",
    "plt.ylabel('Valores predichos (Riesgo de Crédito)')\n",
    "plt.title('Regresión Lineal: Predicción vs Real')\n",
    "plt.show()\n"
   ]
  },
  {
   "cell_type": "markdown",
   "metadata": {},
   "source": [
    "### Explicación del Ejemplo\n",
    "\n",
    "En este ejemplo, hemos construido un modelo de regresión lineal simple que predice el riesgo de crédito de un cliente en función de su ingreso anual y el crédito que ha solicitado. El modelo aprende una relación lineal entre estas variables y puede predecir el riesgo para nuevos clientes.\n",
    "\n",
    "### Conclusión de la Clase\n",
    "\n",
    "En esta primera clase, hemos cubierto los conceptos básicos de **Machine Learning**, los tipos de modelos supervisados y no supervisados, y el papel crucial de los hiperparámetros en la optimización del modelo. También hemos introducido las herramientas que utilizaremos a lo largo del curso, como **Scikit-Learn** y **TensorFlow**, y hemos desarrollado un ejemplo práctico utilizando regresión lineal en el contexto de **Risk & Compliance**.\n",
    "\n",
    "Este ejemplo es solo una introducción. En las siguientes clases, profundizaremos en otros algoritmos y técnicas avanzadas, como la **regresión logística** y la **validación de modelos**.\n"
   ]
  }
 ],
 "metadata": {
  "kernelspec": {
   "display_name": "Python 3 (ipykernel)",
   "language": "python",
   "name": "python3"
  },
  "language_info": {
   "codemirror_mode": {
    "name": "ipython",
    "version": 3
   },
   "file_extension": ".py",
   "mimetype": "text/x-python",
   "name": "python",
   "nbconvert_exporter": "python",
   "pygments_lexer": "ipython3",
   "version": "3.11.4"
  }
 },
 "nbformat": 4,
 "nbformat_minor": 2
}
