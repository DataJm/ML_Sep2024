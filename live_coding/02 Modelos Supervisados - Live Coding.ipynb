{
 "cells": [
  {
   "cell_type": "code",
   "execution_count": 1,
   "id": "af229d4e",
   "metadata": {},
   "outputs": [],
   "source": [
    "import pandas as pd\n",
    "import numpy as np"
   ]
  },
  {
   "cell_type": "code",
   "execution_count": 2,
   "id": "d9b76102",
   "metadata": {
    "collapsed": true
   },
   "outputs": [
    {
     "data": {
      "text/html": [
       "<div>\n",
       "<style scoped>\n",
       "    .dataframe tbody tr th:only-of-type {\n",
       "        vertical-align: middle;\n",
       "    }\n",
       "\n",
       "    .dataframe tbody tr th {\n",
       "        vertical-align: top;\n",
       "    }\n",
       "\n",
       "    .dataframe thead th {\n",
       "        text-align: right;\n",
       "    }\n",
       "</style>\n",
       "<table border=\"1\" class=\"dataframe\">\n",
       "  <thead>\n",
       "    <tr style=\"text-align: right;\">\n",
       "      <th></th>\n",
       "      <th>Unnamed: 0</th>\n",
       "      <th>Status</th>\n",
       "      <th>Duration</th>\n",
       "      <th>CreditHistory</th>\n",
       "      <th>Purpose</th>\n",
       "      <th>CreditAmount</th>\n",
       "      <th>Savings</th>\n",
       "      <th>Employment</th>\n",
       "      <th>InstallmentRate</th>\n",
       "      <th>PersonalStatus</th>\n",
       "      <th>...</th>\n",
       "      <th>Property</th>\n",
       "      <th>Age</th>\n",
       "      <th>OtherInstallment</th>\n",
       "      <th>Housing</th>\n",
       "      <th>ExistingCredits</th>\n",
       "      <th>Job</th>\n",
       "      <th>LiablePeople</th>\n",
       "      <th>Telephone</th>\n",
       "      <th>ForeignWorker</th>\n",
       "      <th>Risk</th>\n",
       "    </tr>\n",
       "  </thead>\n",
       "  <tbody>\n",
       "    <tr>\n",
       "      <th>0</th>\n",
       "      <td>0</td>\n",
       "      <td>A11</td>\n",
       "      <td>6</td>\n",
       "      <td>A34</td>\n",
       "      <td>A43</td>\n",
       "      <td>1169</td>\n",
       "      <td>A65</td>\n",
       "      <td>A75</td>\n",
       "      <td>4</td>\n",
       "      <td>A93</td>\n",
       "      <td>...</td>\n",
       "      <td>A121</td>\n",
       "      <td>67</td>\n",
       "      <td>A143</td>\n",
       "      <td>A152</td>\n",
       "      <td>2</td>\n",
       "      <td>A173</td>\n",
       "      <td>1</td>\n",
       "      <td>A192</td>\n",
       "      <td>A201</td>\n",
       "      <td>1</td>\n",
       "    </tr>\n",
       "    <tr>\n",
       "      <th>1</th>\n",
       "      <td>1</td>\n",
       "      <td>A12</td>\n",
       "      <td>48</td>\n",
       "      <td>A32</td>\n",
       "      <td>A43</td>\n",
       "      <td>5951</td>\n",
       "      <td>A61</td>\n",
       "      <td>A73</td>\n",
       "      <td>2</td>\n",
       "      <td>A92</td>\n",
       "      <td>...</td>\n",
       "      <td>A121</td>\n",
       "      <td>22</td>\n",
       "      <td>A143</td>\n",
       "      <td>A152</td>\n",
       "      <td>1</td>\n",
       "      <td>A173</td>\n",
       "      <td>1</td>\n",
       "      <td>A191</td>\n",
       "      <td>A201</td>\n",
       "      <td>2</td>\n",
       "    </tr>\n",
       "    <tr>\n",
       "      <th>2</th>\n",
       "      <td>2</td>\n",
       "      <td>A14</td>\n",
       "      <td>12</td>\n",
       "      <td>A34</td>\n",
       "      <td>A46</td>\n",
       "      <td>2096</td>\n",
       "      <td>A61</td>\n",
       "      <td>A74</td>\n",
       "      <td>2</td>\n",
       "      <td>A93</td>\n",
       "      <td>...</td>\n",
       "      <td>A121</td>\n",
       "      <td>49</td>\n",
       "      <td>A143</td>\n",
       "      <td>A152</td>\n",
       "      <td>1</td>\n",
       "      <td>A172</td>\n",
       "      <td>2</td>\n",
       "      <td>A191</td>\n",
       "      <td>A201</td>\n",
       "      <td>1</td>\n",
       "    </tr>\n",
       "    <tr>\n",
       "      <th>3</th>\n",
       "      <td>3</td>\n",
       "      <td>A11</td>\n",
       "      <td>42</td>\n",
       "      <td>A32</td>\n",
       "      <td>A42</td>\n",
       "      <td>7882</td>\n",
       "      <td>A61</td>\n",
       "      <td>A74</td>\n",
       "      <td>2</td>\n",
       "      <td>A93</td>\n",
       "      <td>...</td>\n",
       "      <td>A122</td>\n",
       "      <td>45</td>\n",
       "      <td>A143</td>\n",
       "      <td>A153</td>\n",
       "      <td>1</td>\n",
       "      <td>A173</td>\n",
       "      <td>2</td>\n",
       "      <td>A191</td>\n",
       "      <td>A201</td>\n",
       "      <td>1</td>\n",
       "    </tr>\n",
       "    <tr>\n",
       "      <th>4</th>\n",
       "      <td>4</td>\n",
       "      <td>A11</td>\n",
       "      <td>24</td>\n",
       "      <td>A33</td>\n",
       "      <td>A40</td>\n",
       "      <td>4870</td>\n",
       "      <td>A61</td>\n",
       "      <td>A73</td>\n",
       "      <td>3</td>\n",
       "      <td>A93</td>\n",
       "      <td>...</td>\n",
       "      <td>A124</td>\n",
       "      <td>53</td>\n",
       "      <td>A143</td>\n",
       "      <td>A153</td>\n",
       "      <td>2</td>\n",
       "      <td>A173</td>\n",
       "      <td>2</td>\n",
       "      <td>A191</td>\n",
       "      <td>A201</td>\n",
       "      <td>2</td>\n",
       "    </tr>\n",
       "  </tbody>\n",
       "</table>\n",
       "<p>5 rows × 22 columns</p>\n",
       "</div>"
      ],
      "text/plain": [
       "   Unnamed: 0 Status  Duration CreditHistory Purpose  CreditAmount Savings  \\\n",
       "0           0    A11         6           A34     A43          1169     A65   \n",
       "1           1    A12        48           A32     A43          5951     A61   \n",
       "2           2    A14        12           A34     A46          2096     A61   \n",
       "3           3    A11        42           A32     A42          7882     A61   \n",
       "4           4    A11        24           A33     A40          4870     A61   \n",
       "\n",
       "  Employment  InstallmentRate PersonalStatus  ... Property  Age  \\\n",
       "0        A75                4            A93  ...     A121   67   \n",
       "1        A73                2            A92  ...     A121   22   \n",
       "2        A74                2            A93  ...     A121   49   \n",
       "3        A74                2            A93  ...     A122   45   \n",
       "4        A73                3            A93  ...     A124   53   \n",
       "\n",
       "  OtherInstallment  Housing ExistingCredits   Job  LiablePeople Telephone  \\\n",
       "0             A143     A152               2  A173             1      A192   \n",
       "1             A143     A152               1  A173             1      A191   \n",
       "2             A143     A152               1  A172             2      A191   \n",
       "3             A143     A153               1  A173             2      A191   \n",
       "4             A143     A153               2  A173             2      A191   \n",
       "\n",
       "   ForeignWorker Risk  \n",
       "0           A201    1  \n",
       "1           A201    2  \n",
       "2           A201    1  \n",
       "3           A201    1  \n",
       "4           A201    2  \n",
       "\n",
       "[5 rows x 22 columns]"
      ]
     },
     "execution_count": 2,
     "metadata": {},
     "output_type": "execute_result"
    }
   ],
   "source": [
    "# Cargar los datos\n",
    "# Notar que en un proyecto real, primero me familiarizo con los datos, desoués hago ML\n",
    "data = pd.read_csv(\"../data/german.csv\")\n",
    "\n",
    "data.head()\n",
    "\n",
    "# Aquí haríamos el EDA (Exploratory Data Analysis)"
   ]
  },
  {
   "cell_type": "code",
   "execution_count": 5,
   "id": "86b33957",
   "metadata": {},
   "outputs": [],
   "source": [
    "# Selecciono las variables de mi modelo\n",
    "# Quiero predecir una cantidad (Credit Amount), por lo tanto\n",
    "# este será un modelo Supervisado y de Regresión\n",
    "\n",
    "# Yo creo que podemos predecir la cantidad de crédito con\n",
    "# la duración (del prestamo) y la edad de las personas\n",
    "\n",
    "X = data[['Duration','Age']]\n",
    "y = data['CreditAmount']"
   ]
  },
  {
   "cell_type": "code",
   "execution_count": 6,
   "id": "d5168997",
   "metadata": {
    "scrolled": true
   },
   "outputs": [
    {
     "name": "stderr",
     "output_type": "stream",
     "text": [
      "/Users/josemanuelbarrera/opt/anaconda3/lib/python3.9/site-packages/scipy/__init__.py:146: UserWarning: A NumPy version >=1.16.5 and <1.23.0 is required for this version of SciPy (detected version 1.24.3\n",
      "  warnings.warn(f\"A NumPy version >={np_minversion} and <{np_maxversion}\"\n"
     ]
    }
   ],
   "source": [
    "# Vamos a dividir ahora los datos entre datos de entrenamiento y datos de testeo\n",
    "\n",
    "# SIEMPRE SIEMPRE , pero SIEMPRE \n",
    "# vamos a hacer este train test split\n",
    "\n",
    "from sklearn.model_selection import train_test_split\n",
    "\n",
    "X_train, X_test, y_train, y_test = train_test_split(X, y)"
   ]
  },
  {
   "cell_type": "code",
   "execution_count": 12,
   "id": "eec8e410",
   "metadata": {},
   "outputs": [
    {
     "data": {
      "text/plain": [
       "(250, 2)"
      ]
     },
     "execution_count": 12,
     "metadata": {},
     "output_type": "execute_result"
    }
   ],
   "source": [
    "# La función train_test_split, en default\n",
    "# divide los datos en 75% y 25% (entrenamiento y teseto respectivamente)\n",
    "X_test.shape"
   ]
  },
  {
   "cell_type": "code",
   "execution_count": 15,
   "id": "431ce4a7",
   "metadata": {},
   "outputs": [
    {
     "data": {
      "text/plain": [
       "LinearRegression()"
      ]
     },
     "execution_count": 15,
     "metadata": {},
     "output_type": "execute_result"
    }
   ],
   "source": [
    "# Entrenamos el modelo ahora\n",
    "from sklearn.linear_model import LinearRegression\n",
    "\n",
    "modelo = LinearRegression()\n",
    "\n",
    "modelo"
   ]
  },
  {
   "cell_type": "code",
   "execution_count": 17,
   "id": "2b7d1738",
   "metadata": {
    "scrolled": true
   },
   "outputs": [
    {
     "data": {
      "text/plain": [
       "LinearRegression()"
      ]
     },
     "execution_count": 17,
     "metadata": {},
     "output_type": "execute_result"
    }
   ],
   "source": [
    "modelo.fit(X_train, y_train)"
   ]
  },
  {
   "cell_type": "code",
   "execution_count": 30,
   "id": "ebd384dd",
   "metadata": {
    "scrolled": true
   },
   "outputs": [
    {
     "data": {
      "text/plain": [
       "4202097.124114748"
      ]
     },
     "execution_count": 30,
     "metadata": {},
     "output_type": "execute_result"
    }
   ],
   "source": [
    "# Este es el error cuadrático medio. Es la misma formula que la varianza\n",
    "# y por lo tanto tiene los mismos beneficios y problemas.\n",
    "\n",
    "resultados = pd.DataFrame({\n",
    "    'predicciones': modelo.predict(X_test),\n",
    "    'observaciones': y_test\n",
    "})\n",
    "\n",
    "resultados['diferencia'] = (resultados['predicciones'] - resultados['observaciones'])**2\n",
    "\n",
    "\n",
    "resultados['diferencia'].mean()\n",
    "\n",
    "np.sqrt(resultados['diferencia'].mean())"
   ]
  },
  {
   "cell_type": "code",
   "execution_count": 38,
   "id": "50acaddb",
   "metadata": {},
   "outputs": [
    {
     "data": {
      "text/plain": [
       "4202097.124114748"
      ]
     },
     "execution_count": 38,
     "metadata": {},
     "output_type": "execute_result"
    }
   ],
   "source": [
    "# En realidad, no tenemos que programar estas medidas del error. Las podemos importar\n",
    "# directo de SKLearn y usarlas\n",
    "\n",
    "from sklearn.metrics import mean_squared_error, r2_score\n",
    "\n",
    "# Vamos a calcular el vector de predicciones\n",
    "y_pred = modelo.predict(X_test)\n",
    "\n",
    "# Este es el equivalente a la varianza, es decir\n",
    "# entre más grande sea, mayor error tiene mi modelo.\n",
    "# No puedo interpretar estos número\n",
    "mse = mean_squared_error(y_test, y_pred)\n",
    "mse"
   ]
  },
  {
   "cell_type": "code",
   "execution_count": 37,
   "id": "06ec1df8",
   "metadata": {},
   "outputs": [
    {
     "data": {
      "text/plain": [
       "2049.9017352338496"
      ]
     },
     "execution_count": 37,
     "metadata": {},
     "output_type": "execute_result"
    }
   ],
   "source": [
    "# Raíz del error cuadrático medio\n",
    "# Al igual que la desviación estándar, este número\n",
    "# está en las unidades de medida (euros)\n",
    "# Por lo tanto, este número representa\n",
    "# el margen de error de nuestro modelo en las unidades\n",
    "# de medida de Y\n",
    "\n",
    "rmse = np.sqrt(mse)\n",
    "rmse"
   ]
  },
  {
   "cell_type": "code",
   "execution_count": 40,
   "id": "adffd04c",
   "metadata": {},
   "outputs": [
    {
     "data": {
      "text/plain": [
       "0.36358141335462046"
      ]
     },
     "execution_count": 40,
     "metadata": {},
     "output_type": "execute_result"
    }
   ],
   "source": [
    "# Esto es cuánta variabilidad de Y (cantidad de crédito) se explica\n",
    "# con nuestro modelo.\n",
    "# Solo el 36% de la cantidad prestada se explica\n",
    "# con la edad y la duración del crédito.\n",
    "\n",
    "# Es un modelo pobre\n",
    "r2_score(y_test, y_pred)"
   ]
  },
  {
   "cell_type": "code",
   "execution_count": 41,
   "id": "2b8a3808",
   "metadata": {
    "scrolled": true
   },
   "outputs": [
    {
     "data": {
      "text/plain": [
       "count     1000.000000\n",
       "mean      3271.258000\n",
       "std       2822.736876\n",
       "min        250.000000\n",
       "25%       1365.500000\n",
       "50%       2319.500000\n",
       "75%       3972.250000\n",
       "max      18424.000000\n",
       "Name: CreditAmount, dtype: float64"
      ]
     },
     "execution_count": 41,
     "metadata": {},
     "output_type": "execute_result"
    }
   ],
   "source": [
    "y.describe()"
   ]
  },
  {
   "cell_type": "code",
   "execution_count": 44,
   "id": "3c073977",
   "metadata": {},
   "outputs": [],
   "source": [
    "import pandas as pd\n",
    "import numpy as np\n",
    "from sklearn.model_selection import train_test_split\n",
    "from sklearn.linear_model import LinearRegression\n",
    "from sklearn.metrics import mean_squared_error, r2_score\n",
    "\n",
    "data = pd.read_csv(\"../data/german.csv\")\n",
    "\n",
    "X = data[['Duration','Age']]\n",
    "y = data['CreditAmount']\n",
    "\n",
    "X_train, X_test, y_train, y_test = train_test_split(X, y)\n",
    "\n",
    "modelo = LinearRegression()\n",
    "modelo.fit(X_train, y_train)\n",
    "\n",
    "y_pred = modelo.predict(X_test)\n",
    "\n",
    "mse = mean_squared_error(y_test, y_pred)\n",
    "rmse = np.sqrt(mse)\n",
    "score = r2_score(y_test, y_pred)"
   ]
  },
  {
   "cell_type": "markdown",
   "id": "8ac8cc28",
   "metadata": {},
   "source": [
    "# Críticas al modelo\n",
    "\n",
    "- Qué pasa con las otras variables que tenemos ? \n",
    "    - Podemos incorporar todas las variables que nosotros creemos que sirven para predecir el Credit Amount. Es nuestro trabajo como Data Scientist volver atrás y jugar con esta idea. \n",
    "    - Notar que para probar otras variables, tendremos que hacer transformaciones de datos. Hasta ahora sólo estamos usando variables númericas (cuantitativas). Para agregar otro tipo de variables (categorias) necesitariamos hacer transformaciones como one-hot-encoding (variables dummy, variables binarias).\n",
    "\n",
    "- El tamaño de muestra, no siempre podemos mejorar la cantidad de observaciones\n",
    "    - Básicamente más es mejor, siempre tener más de 50 observaciones.\n",
    "    \n",
    "- Probar con otro modelo. \n",
    "    - La regresión lineal es el modelo más \"pobre\" (básico) de ML. Aún así este tiempo no es desperdiciado. El modelo de regresión lineal lo utilizamos siempre como un baseline con el cual comparar.\n",
    "    \n",
    "- Ajustar los hiperparámetros del modelo\n",
    "    - Revisar la documentación para ver qué parametros podemos modificar y que nos puedan ayudar a mejorar las métricas de error.\n",
    "    \n",
    "- Probar con otras transformaciones de datos (Normalización y Estandarización)\n",
    "    - Existen otras herramientras para homologar los datos. Estas también pueden servir para mejorar el error de un modelo\n",
    "    - También podemos probar con técnicas de reducción de dimensiones (PCA)"
   ]
  },
  {
   "cell_type": "code",
   "execution_count": 47,
   "id": "eee4e480",
   "metadata": {},
   "outputs": [],
   "source": [
    "import pandas as pd\n",
    "import numpy as np\n",
    "from sklearn.model_selection import train_test_split\n",
    "from sklearn.svm import SVR\n",
    "from sklearn.metrics import mean_squared_error, r2_score\n",
    "\n",
    "data = pd.read_csv(\"../data/german.csv\")\n",
    "\n",
    "X = data[['Duration','Age']]\n",
    "y = data['CreditAmount']\n",
    "\n",
    "X_train, X_test, y_train, y_test = train_test_split(X, y)\n",
    "\n",
    "modelo = SVR()\n",
    "modelo.fit(X_train, y_train)\n",
    "\n",
    "y_pred = modelo.predict(X_test)\n",
    "\n",
    "mse = mean_squared_error(y_test, y_pred)\n",
    "rmse = np.sqrt(mse)\n",
    "score = r2_score(y_test, y_pred)"
   ]
  },
  {
   "cell_type": "code",
   "execution_count": 48,
   "id": "1fdbfba3",
   "metadata": {},
   "outputs": [
    {
     "data": {
      "text/plain": [
       "7584465.449458761"
      ]
     },
     "execution_count": 48,
     "metadata": {},
     "output_type": "execute_result"
    }
   ],
   "source": [
    "mse"
   ]
  },
  {
   "cell_type": "code",
   "execution_count": 49,
   "id": "ea7c23ed",
   "metadata": {},
   "outputs": [
    {
     "data": {
      "text/plain": [
       "2753.9908223265306"
      ]
     },
     "execution_count": 49,
     "metadata": {},
     "output_type": "execute_result"
    }
   ],
   "source": [
    "rmse"
   ]
  },
  {
   "cell_type": "code",
   "execution_count": 50,
   "id": "395fff76",
   "metadata": {},
   "outputs": [
    {
     "data": {
      "text/plain": [
       "-0.08012016911735409"
      ]
     },
     "execution_count": 50,
     "metadata": {},
     "output_type": "execute_result"
    }
   ],
   "source": [
    "score"
   ]
  },
  {
   "cell_type": "code",
   "execution_count": null,
   "id": "718ad164",
   "metadata": {},
   "outputs": [],
   "source": []
  }
 ],
 "metadata": {
  "kernelspec": {
   "display_name": "Python 3 (ipykernel)",
   "language": "python",
   "name": "python3"
  },
  "language_info": {
   "codemirror_mode": {
    "name": "ipython",
    "version": 3
   },
   "file_extension": ".py",
   "mimetype": "text/x-python",
   "name": "python",
   "nbconvert_exporter": "python",
   "pygments_lexer": "ipython3",
   "version": "3.11.4"
  }
 },
 "nbformat": 4,
 "nbformat_minor": 5
}
